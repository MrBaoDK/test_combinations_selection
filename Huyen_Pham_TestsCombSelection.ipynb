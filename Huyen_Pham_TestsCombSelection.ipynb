{
  "nbformat": 4,
  "nbformat_minor": 0,
  "metadata": {
    "colab": {
      "provenance": []
    },
    "kernelspec": {
      "name": "python3",
      "display_name": "Python 3"
    },
    "language_info": {
      "name": "python"
    }
  },
  "cells": [
    {
      "cell_type": "markdown",
      "source": [
        "- Cho 1 file csv gồm các kết quả test của các mẫu test\n",
        "- Có 382 tiêu chuẩn test, mỗi tiêu chuẩn đều có Upper Limit và Lower Limit\n",
        "- Trong file csv có các dòng:\n",
        "  + Dòng 1 là tên khu vực ( 12 cột đầu chứa thông tin cơ bản (cột thứ 3 là ID của mẫu ), các cột tiếp theo chứa thông tin test)\n",
        "  + Dòng 2 là tiêu đề các trường\n",
        "  + Dòng 3 là tên hiển thị (bỏ trống)\n",
        "  + Dòng 4 là PDCA Priority\n",
        "  + Dòng 5, 6 là upper limit và lower limit\n",
        "  + Dòng 7 là đơn vị\n",
        "  + Từ Dòng 8 trở đi là kết quả test\n",
        "- Delta được quy định với các tiêu chuẩn test (Delta là giá trị hiệu của số đo lớn nhất và số đo nhỏ nhất theo từng tiêu chuẩn test trong từng lot):\n",
        "  + tên có đuôi là \"RSSI -60.0 QPSK [50/0]\" thì delta < 0.25\n",
        "  + tên có đuôi là \"Max Power QPSK [12/19]\" thì delta < 0.2\n",
        "- Và 2 thông số đo RSSI, Max Power này standard deviation< 0.2\n",
        "- Chọn tổ hợp 10 lần test theo mẫu ID, thoả mãn điều kiện là: có std deviation nhỏ nhất và Delta thõa điều kiện ở trên."
      ],
      "metadata": {
        "id": "akGZeeCEuS6i"
      }
    },
    {
      "cell_type": "code",
      "execution_count": null,
      "metadata": {
        "id": "x4k8YV5a0mQK"
      },
      "outputs": [],
      "source": [
        "# Gọi thư việc pandas dưới tên pd cho việc xử lý data\n",
        "import pandas as pd"
      ]
    },
    {
      "cell_type": "code",
      "source": [
        "# Xin cấp quyền google drive để google collaboration truy cập\n",
        "drive_root_path = '/content/drive'\n",
        "from google.colab import drive\n",
        "drive.mount(drive_root_path)\n",
        "\n",
        "# Cài đường dẫn file nhập và file xuất\n",
        "csv_input_path = f'{drive_root_path}/My Drive/Data tests from Huyen_Pham/Rawdata.csv'\n",
        "csv_output_path = f'{drive_root_path}/My Drive/Data tests from Huyen_Pham/Output.csv'"
      ],
      "metadata": {
        "colab": {
          "base_uri": "https://localhost:8080/"
        },
        "id": "3KQpq54d1hYK",
        "outputId": "effc9c4e-a6b1-441b-8b49-05cf65623824"
      },
      "execution_count": null,
      "outputs": [
        {
          "output_type": "stream",
          "name": "stdout",
          "text": [
            "Mounted at /content/drive\n"
          ]
        }
      ]
    },
    {
      "cell_type": "code",
      "source": [
        "# Đọc dữ liệu từ file CSV\n",
        "data = pd.read_csv(csv_input_path, header=None)\n",
        "\n",
        "# Đặt tiêu đề cột là dòng 2\n",
        "data.columns = data.iloc[1]\n",
        "\n",
        "# Lấy test data từ dòng 8 trở đi\n",
        "test_data = data.iloc[7:,:]\n",
        "\n",
        "# Các spec test name là cột 13 trở đi\n",
        "test_columns = data.columns[12:]\n",
        "\n",
        "# Chuyển data các kết quả test sang dạng số\n",
        "test_data[test_columns] = test_data[test_columns].apply(pd.to_numeric, errors='coerce')"
      ],
      "metadata": {
        "colab": {
          "base_uri": "https://localhost:8080/"
        },
        "id": "2LcTfXP600uM",
        "outputId": "a74ab238-b166-45ff-b60d-4bdf591498ca"
      },
      "execution_count": null,
      "outputs": [
        {
          "output_type": "stream",
          "name": "stderr",
          "text": [
            "<ipython-input-3-1bee9a85bb43>:14: SettingWithCopyWarning: \n",
            "A value is trying to be set on a copy of a slice from a DataFrame.\n",
            "Try using .loc[row_indexer,col_indexer] = value instead\n",
            "\n",
            "See the caveats in the documentation: https://pandas.pydata.org/pandas-docs/stable/user_guide/indexing.html#returning-a-view-versus-a-copy\n",
            "  test_data[test_columns] = test_data[test_columns].apply(pd.to_numeric, errors='coerce')\n"
          ]
        }
      ]
    },
    {
      "cell_type": "code",
      "source": [
        "# Tạo delta dict cho các tiêu chuẩn test được quy định\n",
        "delta_dict = {}\n",
        "for column in test_columns:\n",
        "    if column.endswith(\"RSSI -60.0 QPSK [50/0]\"):\n",
        "        delta_dict[column] = 0.25\n",
        "    elif column.endswith(\"Max Power QPSK [12/19]\"):\n",
        "        delta_dict[column] = 0.2"
      ],
      "metadata": {
        "id": "a1m3knWl7bVv"
      },
      "execution_count": null,
      "outputs": []
    },
    {
      "cell_type": "code",
      "source": [
        "\n",
        "# Hàm để chọn ra 10 tổ hợp test thoả mãn điều kiện trong mỗi nhóm\n",
        "def select_10test_combination(group):\n",
        "\n",
        "  # Dataframe mới chứa dữ liệu kết quả test\n",
        "  _test_data = group[test_columns]\n",
        "  stddev_dict = {}\n",
        "  _10test_combinations = []\n",
        "\n",
        "  # Sắp xếp dữ liệu theo từng tiêu chuẩn test\n",
        "  sorted_test_data = _test_data.sort_values(by=test_columns.tolist())\n",
        "\n",
        "  # Số lượng kết quả test cần xem xét\n",
        "  num_tests = len(sorted_test_data)\n",
        "\n",
        "  # Duyệt qua từng kết quả test\n",
        "  for i in range(num_tests - 9):\n",
        "    # Lấy ra 10 tổ hợp test\n",
        "    selected_samples = sorted_test_data.iloc[i:i+10]\n",
        "\n",
        "    # Tính std deviation, nếu std nhỏ nhất >= 0.2 thì loại tổ hợp này\n",
        "    stddev = selected_samples.std()\n",
        "    if stddev.min() >= 0.2:\n",
        "      continue\n",
        "\n",
        "    # Tính các delta trong các spec cần tính, lưu lại dạng boolean\n",
        "    deltas = {}\n",
        "    for column in delta_dict.keys():\n",
        "      delta = selected_samples[column].max() - selected_samples[column].min()\n",
        "      deltas[column] = delta < delta_dict[column]\n",
        "\n",
        "    # Nếu tất cả đều thỏa điều kiện thì lưu tổ hợp này lại\n",
        "    if all(deltas.values()):\n",
        "      _10test_combinations.append({\"sample_indexes\": selected_samples.index, \"stddev\": stddev.min()})\n",
        "\n",
        "  # Sắp xếp các tổ hợp theo std deviation nhỏ nhất đến lớn nhất\n",
        "  sorted_combinations = sorted(_10test_combinations, key=lambda x: x[\"stddev\"])\n",
        "\n",
        "  # Lấy tổ hợp đầu tiên nếu có\n",
        "  return sorted_combinations[0] if sorted_combinations else None"
      ],
      "metadata": {
        "id": "KvsYoJsL57ld"
      },
      "execution_count": null,
      "outputs": []
    },
    {
      "cell_type": "code",
      "source": [
        "# Nhóm data theo serialnumber\n",
        "grouped_data = test_data.groupby(\"SerialNumber\")\n",
        "grouped_data_list = [group for _, group in grouped_data]"
      ],
      "metadata": {
        "id": "dMzKtrsg7w2y"
      },
      "execution_count": null,
      "outputs": []
    },
    {
      "cell_type": "code",
      "source": [
        "# Giữ lại các dòng 1-7\n",
        "idx_to_keep = [0,1,2,3,4,5,6]\n",
        "\n",
        "# Tiến hành chọn tổ hợp và thêm các số dòng để giữ lại\n",
        "for idx, group in enumerate(grouped_data_list, 1):\n",
        "  comb = select_10test_combination(group)\n",
        "  if comb is not None:\n",
        "    samples = comb.get(\"sample_indexes\", [])\n",
        "    idx_to_keep.extend(samples)"
      ],
      "metadata": {
        "id": "GNmxEvV9zwqM"
      },
      "execution_count": null,
      "outputs": []
    },
    {
      "cell_type": "code",
      "source": [
        "# Lọc data theo danh sách và xuất data\n",
        "selected_data = data.iloc[idx_to_keep]\n",
        "selected_data.to_csv(csv_output_path, index=False, header=False)"
      ],
      "metadata": {
        "id": "CgTYBvbDTj3K"
      },
      "execution_count": null,
      "outputs": []
    }
  ]
}